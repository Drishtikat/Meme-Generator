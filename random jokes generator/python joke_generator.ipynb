{
 "cells": [
  {
   "cell_type": "code",
   "execution_count": 14,
   "metadata": {},
   "outputs": [
    {
     "name": "stdout",
     "output_type": "stream",
     "text": [
      "Note: you may need to restart the kernel to use updated packages.Requirement already satisfied: requests in c:\\users\\disha\\appdata\\local\\programs\\python\\python313\\lib\\site-packages (2.32.3)\n",
      "Requirement already satisfied: charset-normalizer<4,>=2 in c:\\users\\disha\\appdata\\local\\programs\\python\\python313\\lib\\site-packages (from requests) (3.4.1)\n",
      "Requirement already satisfied: idna<4,>=2.5 in c:\\users\\disha\\appdata\\local\\programs\\python\\python313\\lib\\site-packages (from requests) (3.10)\n",
      "Requirement already satisfied: urllib3<3,>=1.21.1 in c:\\users\\disha\\appdata\\local\\programs\\python\\python313\\lib\\site-packages (from requests) (2.3.0)\n",
      "Requirement already satisfied: certifi>=2017.4.17 in c:\\users\\disha\\appdata\\local\\programs\\python\\python313\\lib\\site-packages (from requests) (2025.1.31)\n",
      "\n"
     ]
    },
    {
     "name": "stderr",
     "output_type": "stream",
     "text": [
      "\n",
      "[notice] A new release of pip is available: 25.0 -> 25.0.1\n",
      "[notice] To update, run: python.exe -m pip install --upgrade pip\n"
     ]
    },
    {
     "name": "stdout",
     "output_type": "stream",
     "text": [
      "Requirement already satisfied: pyttsx3 in c:\\users\\disha\\appdata\\local\\programs\\python\\python313\\lib\\site-packages (2.98)\n",
      "Requirement already satisfied: comtypes in c:\\users\\disha\\appdata\\local\\programs\\python\\python313\\lib\\site-packages (from pyttsx3) (1.4.10)\n",
      "Requirement already satisfied: pypiwin32 in c:\\users\\disha\\appdata\\local\\programs\\python\\python313\\lib\\site-packages (from pyttsx3) (223)\n",
      "Requirement already satisfied: pywin32 in c:\\users\\disha\\appdata\\roaming\\python\\python313\\site-packages (from pyttsx3) (308)\n",
      "Note: you may need to restart the kernel to use updated packages.\n"
     ]
    },
    {
     "name": "stderr",
     "output_type": "stream",
     "text": [
      "\n",
      "[notice] A new release of pip is available: 25.0 -> 25.0.1\n",
      "[notice] To update, run: python.exe -m pip install --upgrade pip\n"
     ]
    }
   ],
   "source": [
    "%pip install requests\n",
    "%pip install pyttsx3"
   ]
  },
  {
   "cell_type": "code",
   "execution_count": null,
   "metadata": {},
   "outputs": [
    {
     "name": "stdout",
     "output_type": "stream",
     "text": [
      "\n",
      "😂 Random Joke 😂\n",
      "\n",
      "What kind of magic do cows believe in?\n",
      "MOODOO.\n",
      "\n",
      "😂 Random Joke 😂\n",
      "\n",
      "What do you call a bee that lives in America?\n",
      "A USB.\n",
      "\n",
      "😂 Random Joke 😂\n",
      "\n",
      "I was gonna tell you a joke about UDP...\n",
      "...but you might not get it.\n"
     ]
    }
   ],
   "source": [
    "import requests\n",
    "import pyttsx3\n",
    "\n",
    "# Initialize Text-to-Speech engine\n",
    "engine = pyttsx3.init()\n",
    "\n",
    "def speak(text):\n",
    "    \"\"\"Function to convert text to speech\"\"\"\n",
    "    engine.say(text)\n",
    "    engine.runAndWait()\n",
    "\n",
    "# Changing the voice type and rate\n",
    "engine.setProperty(\"rate\", 175)  # Speed of speech\n",
    "voices = engine.getProperty(\"voices\")\n",
    "engine.setProperty(\"voice\", voices[1].id)  # Change voice (0: Male, 1: Female)\n",
    "\n",
    "\n",
    "def get_random_joke():\n",
    "    url = \"https://official-joke-api.appspot.com/random_joke\"\n",
    "    response = requests.get(url)\n",
    "    \n",
    "    if response.status_code == 200:\n",
    "        joke = response.json()\n",
    "        setup = joke[\"setup\"]\n",
    "        punchline = joke[\"punchline\"]\n",
    "\n",
    "        print(\"\\n😂 Random Joke 😂\\n\")\n",
    "        print(setup)\n",
    "        speak(setup)  # Speak the joke setup\n",
    "        \n",
    "        input(\"Press Enter for the punchline...\")  # Pause before revealing the punchline\n",
    "        \n",
    "        print(punchline)\n",
    "        speak(punchline)  # Speak the joke punchline\n",
    "    else:\n",
    "        print(\"Failed to fetch a joke. Try again!\")\n",
    "\n",
    "if __name__ == \"__main__\":\n",
    "    while True:\n",
    "        get_random_joke()\n",
    "        again = input(\"\\nWant another joke? (yes/no): \").strip().lower()\n",
    "        if again == \"no\":\n",
    "            print(\"Goodbye! 😃\")\n",
    "            speak(\"Goodbye! Have a great day!\")\n",
    "            break"
   ]
  }
 ],
 "metadata": {
  "kernelspec": {
   "display_name": "Python 3",
   "language": "python",
   "name": "python3"
  },
  "language_info": {
   "codemirror_mode": {
    "name": "ipython",
    "version": 3
   },
   "file_extension": ".py",
   "mimetype": "text/x-python",
   "name": "python",
   "nbconvert_exporter": "python",
   "pygments_lexer": "ipython3",
   "version": "3.13.1"
  }
 },
 "nbformat": 4,
 "nbformat_minor": 2
}
